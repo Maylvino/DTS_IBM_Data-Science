{
 "cells": [
  {
   "cell_type": "code",
   "execution_count": 1,
   "metadata": {},
   "outputs": [
    {
     "data": {
      "text/plain": [
       "10"
      ]
     },
     "execution_count": 1,
     "metadata": {},
     "output_type": "execute_result"
    }
   ],
   "source": [
    "x = 10\n",
    "x"
   ]
  },
  {
   "cell_type": "code",
   "execution_count": 3,
   "metadata": {},
   "outputs": [
    {
     "data": {
      "text/plain": [
       "True"
      ]
     },
     "execution_count": 3,
     "metadata": {},
     "output_type": "execute_result"
    }
   ],
   "source": [
    "i=6\n",
    "i>5"
   ]
  },
  {
   "cell_type": "code",
   "execution_count": 4,
   "metadata": {},
   "outputs": [
    {
     "data": {
      "text/plain": [
       "False"
      ]
     },
     "execution_count": 4,
     "metadata": {},
     "output_type": "execute_result"
    }
   ],
   "source": [
    "\"AC/DC\"==\"Hello World\""
   ]
  },
  {
   "cell_type": "code",
   "execution_count": 5,
   "metadata": {},
   "outputs": [
    {
     "data": {
      "text/plain": [
       "4"
      ]
     },
     "execution_count": 5,
     "metadata": {},
     "output_type": "execute_result"
    }
   ],
   "source": [
    "len(\"ACDC\")"
   ]
  },
  {
   "cell_type": "code",
   "execution_count": 15,
   "metadata": {},
   "outputs": [
    {
     "name": "stdout",
     "output_type": "stream",
     "text": [
      "Still qualified\n",
      "Move one\n"
     ]
    }
   ],
   "source": [
    "age = 15\n",
    "if (age>18):\n",
    "    print(\"You can enter\")\n",
    "elif {age==18}:\n",
    "    print(\"Still qualified\")\n",
    "elif(age>16):\n",
    "    print(\"Nearly qualified\")\n",
    "elif(age>14):\n",
    "    print(\"Far enough from qualified\")\n",
    "else:\n",
    "    print(\"Go see meat loaf\")\n",
    "print(\"Move one\")"
   ]
  },
  {
   "cell_type": "code",
   "execution_count": 16,
   "metadata": {},
   "outputs": [
    {
     "data": {
      "text/plain": [
       "False"
      ]
     },
     "execution_count": 16,
     "metadata": {},
     "output_type": "execute_result"
    }
   ],
   "source": [
    "not(True)"
   ]
  },
  {
   "cell_type": "code",
   "execution_count": 17,
   "metadata": {},
   "outputs": [
    {
     "data": {
      "text/plain": [
       "True"
      ]
     },
     "execution_count": 17,
     "metadata": {},
     "output_type": "execute_result"
    }
   ],
   "source": [
    "not(age>20)"
   ]
  },
  {
   "cell_type": "code",
   "execution_count": 21,
   "metadata": {},
   "outputs": [
    {
     "name": "stdout",
     "output_type": "stream",
     "text": [
      "desktop-0t8ilbm\\maylvin\n"
     ]
    }
   ],
   "source": [
    "!whoami"
   ]
  },
  {
   "cell_type": "code",
   "execution_count": 30,
   "metadata": {},
   "outputs": [
    {
     "name": "stdout",
     "output_type": "stream",
     "text": [
      "60\n",
      "More than 30 or more than 40\n"
     ]
    }
   ],
   "source": [
    "age=60\n",
    "print(age)\n",
    "if(age==20):\n",
    "    print(\"20 years old\")\n",
    "elif((age<20) & (age>10)):\n",
    "    print(\"Between 10 and 20\")\n",
    "elif(age>30 or age>40):\n",
    "    print(\"More than 30 or more than 40\")\n",
    "else:\n",
    "    print(\"Others\")"
   ]
  },
  {
   "cell_type": "code",
   "execution_count": 31,
   "metadata": {},
   "outputs": [
    {
     "data": {
      "text/plain": [
       "False"
      ]
     },
     "execution_count": 31,
     "metadata": {},
     "output_type": "execute_result"
    }
   ],
   "source": [
    "True & False"
   ]
  },
  {
   "cell_type": "code",
   "execution_count": 32,
   "metadata": {},
   "outputs": [
    {
     "data": {
      "text/plain": [
       "True"
      ]
     },
     "execution_count": 32,
     "metadata": {},
     "output_type": "execute_result"
    }
   ],
   "source": [
    "False or True"
   ]
  },
  {
   "cell_type": "code",
   "execution_count": 90,
   "metadata": {},
   "outputs": [
    {
     "name": "stdout",
     "output_type": "stream",
     "text": [
      "['red', 'yellow', 'green', 'purple', 'blue']\n",
      "['red', 'yellow', 'green', 'purple', 'blue']\n",
      "['red', 'yellow', 'green', 'purple', 'blue']\n",
      "['red', 'yellow', 'green', 'purple', 'blue']\n",
      "['red', 'yellow', 'green', 'purple', 'blue']\n",
      "['red', 'yellow', 'green', 'purple', 'blue']\n",
      "----------------------------------\n",
      "['white', 'white', 'white', 'white', 'white']\n"
     ]
    }
   ],
   "source": [
    "squares= [\"red\",\"yellow\",\"green\",\"purple\",\"blue\"]\n",
    "#for i in range(0,5):\n",
    "#   squares[i]=\"white\"\n",
    "\n",
    "for i in squares:\n",
    "    print(squares)\n",
    "    \n",
    "print(squares)\n",
    "print('----------------------------------')\n",
    "for i in range(0,len(squares)):\n",
    "    squares[i] = \"white\"\n",
    "    \n",
    "print(squares)"
   ]
  },
  {
   "cell_type": "code",
   "execution_count": 45,
   "metadata": {},
   "outputs": [
    {
     "name": "stdout",
     "output_type": "stream",
     "text": [
      "['orange', 'orange', 'orange', 'blue', 'purple']\n",
      "[]\n",
      "-------------------\n",
      "['orange', 'orange', 'orange', 'blue', 'purple']\n",
      "['orange', 'orange', 'orange']\n"
     ]
    }
   ],
   "source": [
    "squares = ['orange','orange','orange','blue','purple']\n",
    "newsquares=[]\n",
    "print(squares)\n",
    "print(newsquares)\n",
    "print('-------------------')\n",
    "i = 0\n",
    "while(squares[i]=='orange'):\n",
    "    newsquares.append(squares[i])\n",
    "    i=i+1\n",
    "print(squares)\n",
    "print(newsquares)"
   ]
  },
  {
   "cell_type": "code",
   "execution_count": 68,
   "metadata": {},
   "outputs": [],
   "source": [
    "def addfunction(a):\n",
    "    n = a + 5\n",
    "    return n\n",
    "\n",
    "def mulfunction(a,b):\n",
    "    n = a * b\n",
    "    return n\n",
    "    \n",
    "def printstuff(thelist):\n",
    "    for l in thelist:\n",
    "        print(l)\n",
    "        \n",
    "def somefunction(s):\n",
    "    x = \"ABCD\"\n",
    "    print(x+s)\n",
    "    \n",
    "def somefunction2(n):\n",
    "    age = 7\n",
    "    print(\"Age and n :\",str(age), \"and\",str(n))"
   ]
  },
  {
   "cell_type": "code",
   "execution_count": 56,
   "metadata": {},
   "outputs": [
    {
     "name": "stdout",
     "output_type": "stream",
     "text": [
      "17\n"
     ]
    }
   ],
   "source": [
    "z = 12\n",
    "z2 = addfunction(z)\n",
    "print(z2)"
   ]
  },
  {
   "cell_type": "code",
   "execution_count": 57,
   "metadata": {},
   "outputs": [
    {
     "data": {
      "text/plain": [
       "204"
      ]
     },
     "execution_count": 57,
     "metadata": {},
     "output_type": "execute_result"
    }
   ],
   "source": [
    "mulfunction(z,z2)"
   ]
  },
  {
   "cell_type": "code",
   "execution_count": 53,
   "metadata": {},
   "outputs": [
    {
     "name": "stdout",
     "output_type": "stream",
     "text": [
      "12\n",
      "[1, 1, 2, 3, 3, 4, 5, 5, 7, 7, 10, 10]\n",
      "[2, 4, 1, 7, 5, 3, 3, 1, 5, 7, 10, 10]\n"
     ]
    }
   ],
   "source": [
    "ratings=[2,4,1,7,5,3,3,1,5,7,10,10]\n",
    "print(len(ratings))\n",
    "print(sorted(ratings))\n",
    "print(ratings)"
   ]
  },
  {
   "cell_type": "code",
   "execution_count": 69,
   "metadata": {},
   "outputs": [
    {
     "name": "stdout",
     "output_type": "stream",
     "text": [
      "ABCDHello\n",
      "EFGH\n",
      "Age and n : 7 and 10\n"
     ]
    }
   ],
   "source": [
    "#printstuff(ratings)\n",
    "#print('------------------------')\n",
    "#printstuff(sorted(ratings))\n",
    "x = 'EFGH'\n",
    "somefunction(\"Hello\")\n",
    "print(x)\n",
    "somefunction2(10)"
   ]
  },
  {
   "cell_type": "code",
   "execution_count": 73,
   "metadata": {},
   "outputs": [],
   "source": [
    "ratings.sort()"
   ]
  },
  {
   "cell_type": "code",
   "execution_count": 74,
   "metadata": {},
   "outputs": [
    {
     "name": "stdout",
     "output_type": "stream",
     "text": [
      "[1, 1, 2, 3, 3, 4, 5, 5, 7, 7, 10, 10]\n"
     ]
    }
   ],
   "source": [
    "print(ratings)"
   ]
  },
  {
   "cell_type": "code",
   "execution_count": 75,
   "metadata": {},
   "outputs": [
    {
     "name": "stdout",
     "output_type": "stream",
     "text": [
      "[10, 10, 7, 7, 5, 5, 4, 3, 3, 2, 1, 1]\n",
      "[10, 10, 7, 7, 5, 4, 3, 3, 2, 1, 1]\n"
     ]
    }
   ],
   "source": [
    "ratings.reverse()\n",
    "print(ratings)\n",
    "ratings.pop(4)\n",
    "print(ratings)"
   ]
  },
  {
   "cell_type": "code",
   "execution_count": 87,
   "metadata": {},
   "outputs": [],
   "source": [
    "class rectangle(object):\n",
    "    \n",
    "    def __init__(self, colour, height, width):\n",
    "        self.colour = colour\n",
    "        self.height = height\n",
    "        self.width = width\n",
    "    \n",
    "    def draw(self):\n",
    "        print(\"Drawing rectangle\")\n",
    "        \n",
    "    def completedraw(self):\n",
    "        print('Drawing Rectangle colour',self.colour, 'height',self.height, 'width',self.width)"
   ]
  },
  {
   "cell_type": "code",
   "execution_count": 88,
   "metadata": {},
   "outputs": [
    {
     "name": "stdout",
     "output_type": "stream",
     "text": [
      "Drawing rectangle\n",
      "Drawing rectangle\n",
      "Drawing Rectangle colour yellow height 5 width 5.4\n",
      "Drawing Rectangle colour blue height 2.4 width 3.6\n"
     ]
    }
   ],
   "source": [
    "rect1 = rectangle(\"blue\",2.4,3.6)\n",
    "type(rect1)\n",
    "rect1.draw()\n",
    "#print(rect1.colour)\n",
    "#print(rect1.height)\n",
    "#print(rect1.width)\n",
    "rect2 = rectangle('yellow',5,5.4)\n",
    "rect2.draw()\n",
    "rect2.completedraw()\n",
    "rect1.completedraw()"
   ]
  },
  {
   "cell_type": "code",
   "execution_count": null,
   "metadata": {},
   "outputs": [],
   "source": []
  }
 ],
 "metadata": {
  "kernelspec": {
   "display_name": "Python 3",
   "language": "python",
   "name": "python3"
  },
  "language_info": {
   "codemirror_mode": {
    "name": "ipython",
    "version": 3
   },
   "file_extension": ".py",
   "mimetype": "text/x-python",
   "name": "python",
   "nbconvert_exporter": "python",
   "pygments_lexer": "ipython3",
   "version": "3.7.6"
  },
  "toc": {
   "base_numbering": 1,
   "nav_menu": {},
   "number_sections": true,
   "sideBar": true,
   "skip_h1_title": false,
   "title_cell": "Table of Contents",
   "title_sidebar": "Contents",
   "toc_cell": false,
   "toc_position": {},
   "toc_section_display": true,
   "toc_window_display": false
  },
  "varInspector": {
   "cols": {
    "lenName": 16,
    "lenType": 16,
    "lenVar": 40
   },
   "kernels_config": {
    "python": {
     "delete_cmd_postfix": "",
     "delete_cmd_prefix": "del ",
     "library": "var_list.py",
     "varRefreshCmd": "print(var_dic_list())"
    },
    "r": {
     "delete_cmd_postfix": ") ",
     "delete_cmd_prefix": "rm(",
     "library": "var_list.r",
     "varRefreshCmd": "cat(var_dic_list()) "
    }
   },
   "types_to_exclude": [
    "module",
    "function",
    "builtin_function_or_method",
    "instance",
    "_Feature"
   ],
   "window_display": false
  }
 },
 "nbformat": 4,
 "nbformat_minor": 4
}
